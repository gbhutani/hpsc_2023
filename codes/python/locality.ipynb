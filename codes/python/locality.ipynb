{
 "cells": [
  {
   "cell_type": "code",
   "execution_count": 1,
   "id": "93b94f78",
   "metadata": {},
   "outputs": [],
   "source": [
    "n=100000\n",
    "x=range(n)"
   ]
  },
  {
   "cell_type": "code",
   "execution_count": 2,
   "id": "8e1589c5",
   "metadata": {},
   "outputs": [
    {
     "name": "stdout",
     "output_type": "stream",
     "text": [
      "43.8 ms ± 3.36 ms per loop (mean ± std. dev. of 7 runs, 10 loops each)\n"
     ]
    }
   ],
   "source": [
    "%%timeit\n",
    "z=0\n",
    "w=0\n",
    "for i in range(len(x)):\n",
    "    z=z+x[i]\n",
    "for i in range(len(x)):\n",
    "    w=w+3.*x[i]\n",
    "#print(f\"z={z}\")  \n",
    "#print(f\"w={w}\")  "
   ]
  },
  {
   "cell_type": "code",
   "execution_count": 3,
   "id": "03d8a559",
   "metadata": {},
   "outputs": [
    {
     "name": "stdout",
     "output_type": "stream",
     "text": [
      "39.6 ms ± 2.18 ms per loop (mean ± std. dev. of 7 runs, 10 loops each)\n"
     ]
    }
   ],
   "source": [
    "%%timeit\n",
    "z=0\n",
    "w=0\n",
    "for i in range(len(x)):\n",
    "    z=z+x[i]\n",
    "    w=w+3.*x[i]\n",
    "#print(f\"z={z}\")  \n",
    "#print(f\"w={w}\")  "
   ]
  },
  {
   "cell_type": "code",
   "execution_count": 4,
   "id": "0ad29c0e",
   "metadata": {},
   "outputs": [],
   "source": [
    "import numpy as np"
   ]
  },
  {
   "cell_type": "code",
   "execution_count": 5,
   "id": "af18c091",
   "metadata": {},
   "outputs": [
    {
     "name": "stdout",
     "output_type": "stream",
     "text": [
      "11.2 ms ± 990 µs per loop (mean ± std. dev. of 7 runs, 100 loops each)\n"
     ]
    }
   ],
   "source": [
    "%%timeit\n",
    "z=np.sum(x)\n",
    "w=3.*z"
   ]
  },
  {
   "cell_type": "code",
   "execution_count": null,
   "id": "74f330b8",
   "metadata": {},
   "outputs": [],
   "source": []
  }
 ],
 "metadata": {
  "kernelspec": {
   "display_name": "Python 3 (ipykernel)",
   "language": "python",
   "name": "python3"
  },
  "language_info": {
   "codemirror_mode": {
    "name": "ipython",
    "version": 3
   },
   "file_extension": ".py",
   "mimetype": "text/x-python",
   "name": "python",
   "nbconvert_exporter": "python",
   "pygments_lexer": "ipython3",
   "version": "3.10.10"
  }
 },
 "nbformat": 4,
 "nbformat_minor": 5
}
