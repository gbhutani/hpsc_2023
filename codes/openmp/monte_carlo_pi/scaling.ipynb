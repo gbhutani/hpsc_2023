{
 "cells": [
  {
   "cell_type": "markdown",
   "id": "d6173d28",
   "metadata": {},
   "source": [
    "# Scaling of the parallelised Monter Carlo Pi code"
   ]
  },
  {
   "cell_type": "markdown",
   "id": "20587576",
   "metadata": {},
   "source": [
    "### Demonstrate the magic command ! to run terminal codes through IPython"
   ]
  },
  {
   "cell_type": "code",
   "execution_count": null,
   "id": "ffa2ac37",
   "metadata": {},
   "outputs": [],
   "source": [
    "# Use ! to run a terminal command - this is for serial version of code\n",
    "! /usr/bin/time ./mcpi.exe 10000000 4"
   ]
  },
  {
   "cell_type": "code",
   "execution_count": null,
   "id": "1f700394",
   "metadata": {},
   "outputs": [],
   "source": [
    "# Use ! to run a terminal command - this is for parallel version of code\n",
    "! /usr/bin/time ./mcpiP.exe 10000000 4"
   ]
  },
  {
   "cell_type": "markdown",
   "id": "da38a716",
   "metadata": {},
   "source": [
    "### The os.system command to execute terminal commands"
   ]
  },
  {
   "cell_type": "code",
   "execution_count": null,
   "id": "f8bf23e2",
   "metadata": {},
   "outputs": [],
   "source": [
    "import os\n",
    "command=\"ls\"\n",
    "command_suffix=\"-l\"\n",
    "os.system(command+\" \"+command_suffix)"
   ]
  },
  {
   "cell_type": "markdown",
   "id": "bb305a4a",
   "metadata": {},
   "source": [
    "### time() function of Python to time system commands"
   ]
  },
  {
   "cell_type": "code",
   "execution_count": null,
   "id": "3bb9e415",
   "metadata": {},
   "outputs": [],
   "source": [
    "# Use the time.time() function to calculate time in Python\n",
    "import os\n",
    "import time\n",
    "points=2 * 10**8\n",
    "threads=2\n",
    "command = \"./mcpiP.exe \"+str(points)+\" \"+str(threads)\n",
    "print(\"threads = \",threads)\n",
    "print(f\"number of points = {points: .1e}\")\n",
    "print(command)\n",
    "time1=time.time()\n",
    "os.system(\"/usr/bin/time -p \"+command)\n",
    "time2=time.time()\n",
    "print(f\"time taken = {time2-time1 : .3}sec\")"
   ]
  },
  {
   "cell_type": "markdown",
   "id": "3bb56488",
   "metadata": {},
   "source": [
    "### Strong Scaling"
   ]
  },
  {
   "cell_type": "code",
   "execution_count": null,
   "id": "5a2b6e81",
   "metadata": {},
   "outputs": [],
   "source": [
    "# Perform strong scaling\n",
    "import os\n",
    "import time\n",
    "points=2 * 10**8\n",
    "max_num_threads = 8\n",
    "scaling=[]\n",
    "for threads in range(1,max_num_threads):\n",
    "    command = \"./mcpiP.exe \"+str(points)+\" \"+str(threads)\n",
    "    print(\"threads = \",threads)\n",
    "    print(f\"number of points = {points: .1e}\")\n",
    "    print(command)\n",
    "    time1=time.time()\n",
    "    os.system(command)\n",
    "    time2=time.time()\n",
    "    time_taken=time2-time1\n",
    "    print(f\"time taken = {time_taken : .3}sec\\n\")\n",
    "    scaling.append([threads,time_taken])"
   ]
  },
  {
   "cell_type": "code",
   "execution_count": null,
   "id": "56cba817",
   "metadata": {},
   "outputs": [],
   "source": [
    "# plot the data for visualisation\n",
    "from matplotlib.pylab import plt\n",
    "import numpy as np\n",
    "\n",
    "print(\"Raw data\")\n",
    "print(scaling)\n",
    "\n",
    "x = [item[0] for item in scaling]\n",
    "y = [item[1] for item in scaling]\n",
    "plt.plot(x,y,'*')\n",
    "plt.xlabel(\"Number of threads\")\n",
    "plt.ylabel(\"Elapsed time in sec\")\n"
   ]
  },
  {
   "cell_type": "code",
   "execution_count": null,
   "id": "a035142d",
   "metadata": {
    "scrolled": true
   },
   "outputs": [],
   "source": [
    "# plot the data for visualisation for speedup\n",
    "from matplotlib.pylab import plt\n",
    "import numpy as np\n",
    "\n",
    "xx=np.array(x)\n",
    "yy=np.array(y)\n",
    "yy=yy/yy[0]\n",
    "yy=1./yy\n",
    "plt.plot(xx,yy,'^')\n",
    "plt.xlabel(\"Number of threads\")\n",
    "plt.ylabel(\"Speedup\")\n"
   ]
  },
  {
   "cell_type": "markdown",
   "id": "340a1ccf",
   "metadata": {},
   "source": [
    "### Estimating the algorithm order"
   ]
  },
  {
   "cell_type": "code",
   "execution_count": null,
   "id": "4d6b9679",
   "metadata": {},
   "outputs": [],
   "source": [
    "# Algorithm order\n",
    "import os\n",
    "import time\n",
    "pb=2* 10**7\n",
    "threads = 2\n",
    "points_list = [pb,2*pb,4*pb,8*pb,16*pb]\n",
    "scaling=[]\n",
    "for points in points_list:\n",
    "    command = \"./mcpiP.exe \"+str(points)+\" \"+str(threads)\n",
    "    print(\"threads = \",threads)\n",
    "    print(f\"number of points = {points: .1e}\")\n",
    "    print(command)\n",
    "    time1=time.time()\n",
    "    os.system(command)\n",
    "    time2=time.time()\n",
    "    time_taken=time2-time1\n",
    "    print(f\"time taken = {time_taken : .3}sec\\n\")\n",
    "    scaling.append([points,time_taken])\n",
    "\n",
    "# plot the data for visualisation\n",
    "from matplotlib.pylab import plt\n",
    "import numpy as np\n",
    "\n",
    "print(\"Raw data\")\n",
    "print(scaling)\n",
    "\n",
    "x = [item[0] for item in scaling]\n",
    "y = [item[1] for item in scaling]\n",
    "plt.plot(x,y,'*')\n",
    "plt.xlabel(\"Number of points\")\n",
    "plt.ylabel(\"Elapsed time in sec\")"
   ]
  },
  {
   "cell_type": "markdown",
   "id": "5a103fd3",
   "metadata": {},
   "source": [
    "### Weak scaling"
   ]
  },
  {
   "cell_type": "code",
   "execution_count": null,
   "id": "67cf826e",
   "metadata": {
    "scrolled": false
   },
   "outputs": [],
   "source": [
    "# Perform weak scaling\n",
    "import os\n",
    "import time\n",
    "pb=2* 10**7\n",
    "threads_list = [1,2,3,4]\n",
    "points_list = [pb,2*pb,3*pb,4*pb]\n",
    "scaling=[]\n",
    "for points,threads in zip(points_list,threads_list):\n",
    "    command = \"./mcpiP.exe \"+str(points)+\" \"+str(threads)\n",
    "    print(\"threads = \",threads)\n",
    "    print(f\"number of points = {points: .1e}\")\n",
    "    print(command)\n",
    "    time1=time.time()\n",
    "    os.system(command)\n",
    "    time2=time.time()\n",
    "    time_taken=time2-time1\n",
    "    print(f\"time taken = {time_taken : .3}sec\\n\")\n",
    "    scaling.append([threads,time_taken])\n",
    "\n",
    "# plot the data for visualisation\n",
    "from matplotlib.pylab import plt\n",
    "import numpy as np\n",
    "\n",
    "print(\"Raw data\")\n",
    "print(scaling)\n",
    "\n",
    "x = [item[0] for item in scaling]\n",
    "y = [item[1] for item in scaling]\n",
    "xx=np.array(x)\n",
    "yy=np.array(y)\n",
    "yy=yy/yy[0]\n",
    "plt.plot(xx,yy,'*')\n",
    "plt.xlabel(\"Number of threads / problem size\")\n",
    "plt.ylabel(\"Elapsed time, normalised, in sec\")\n"
   ]
  },
  {
   "cell_type": "code",
   "execution_count": null,
   "id": "2f1a1de7",
   "metadata": {},
   "outputs": [],
   "source": []
  }
 ],
 "metadata": {
  "kernelspec": {
   "display_name": "Python 3 (ipykernel)",
   "language": "python",
   "name": "python3"
  },
  "language_info": {
   "codemirror_mode": {
    "name": "ipython",
    "version": 3
   },
   "file_extension": ".py",
   "mimetype": "text/x-python",
   "name": "python",
   "nbconvert_exporter": "python",
   "pygments_lexer": "ipython3",
   "version": "3.10.10"
  }
 },
 "nbformat": 4,
 "nbformat_minor": 5
}
